{
 "cells": [
  {
   "cell_type": "markdown",
   "id": "8338cea3",
   "metadata": {},
   "source": [
    "# Module 20: Unsupervised Learning Challenge"
   ]
  },
  {
   "cell_type": "code",
   "execution_count": 1,
   "id": "8cf07b8e",
   "metadata": {},
   "outputs": [],
   "source": [
    "# Importing Dependencies\n",
    "\n",
    "import pandas as pd\n",
    "from pathlib import Path\n",
    "from sklearn.preprocessing import StandardScaler\n",
    "from sklearn.decomposition import PCA\n",
    "from sklearn.manifold import TSNE\n",
    "import matplotlib.pyplot as plt\n",
    "from sklearn.cluster import KMeans"
   ]
  },
  {
   "cell_type": "markdown",
   "id": "f3fb2833",
   "metadata": {},
   "source": [
    "# Myopia Diagnostic Dataset\n",
    "\n",
    "**Dataset Characteristics:**\n",
    "\n",
    "* _Number of Instances:_ 618\n",
    "\n",
    "* _Number of Attributes:_ 16 numeric, predictive attributes and the class.\n",
    "\n",
    "* _Attribute Information:_\n",
    "        \n",
    "  * ID: Study ID\n",
    "  * AGE: Age at first visit (years)\n",
    "  * SPHEQ: Spherical Equivalent Refraction (diopter)\n",
    "  * AL: Axial Length (mm)\n",
    "  * ACD: Anterior Chamber Depth (mm)\n",
    "  * LT: Lens Thickness (mm)\n",
    "  * VCD: Vitreous Chamber Depth (mm)\n",
    "  * SPORTHR: Time spent engaging in sports/outdoor activities (hours per week)\n",
    "  * READHR:Time spent reading for pleasure (hours per week)\n",
    "  * COMPHR:Time spent playing video/computer games or working on the computer (hours per week)\n",
    "  * STUDYHR:Time spent reading or studying for school assignments (hours per week)\n",
    "  * TVHR: Time spent watching television (hours per week)\n",
    "  * DIOPTERHR: Composite of near-work activities (hours per week)\n",
    "  * MOMMY: Was the subject’s mother myopic? (No/Yes)\n",
    "  * DADMY: Was the subject’s father myopic? (No/Yes)\n",
    "  * MYOPIC: Myopia within the first five years of follow up (No/Yes)\n",
    "\n",
    "**Data source:** The dataset used in this activity is a subset of data from Orinda Longitudinal Study of Myopia conducted by the US National Eye Institute. <https://clinicaltrials.gov/ct2/show/NCT00000169>"
   ]
  },
  {
   "cell_type": "markdown",
   "id": "f0726df9",
   "metadata": {},
   "source": [
    "## Part 1: Prepare the Data"
   ]
  },
  {
   "cell_type": "code",
   "execution_count": 2,
   "id": "e8933b9f",
   "metadata": {},
   "outputs": [
    {
     "data": {
      "text/html": [
       "<div>\n",
       "<style scoped>\n",
       "    .dataframe tbody tr th:only-of-type {\n",
       "        vertical-align: middle;\n",
       "    }\n",
       "\n",
       "    .dataframe tbody tr th {\n",
       "        vertical-align: top;\n",
       "    }\n",
       "\n",
       "    .dataframe thead th {\n",
       "        text-align: right;\n",
       "    }\n",
       "</style>\n",
       "<table border=\"1\" class=\"dataframe\">\n",
       "  <thead>\n",
       "    <tr style=\"text-align: right;\">\n",
       "      <th></th>\n",
       "      <th>AGE</th>\n",
       "      <th>SPHEQ</th>\n",
       "      <th>AL</th>\n",
       "      <th>ACD</th>\n",
       "      <th>LT</th>\n",
       "      <th>VCD</th>\n",
       "      <th>SPORTHR</th>\n",
       "      <th>READHR</th>\n",
       "      <th>COMPHR</th>\n",
       "      <th>STUDYHR</th>\n",
       "      <th>TVHR</th>\n",
       "      <th>DIOPTERHR</th>\n",
       "      <th>MOMMY</th>\n",
       "      <th>DADMY</th>\n",
       "      <th>MYOPIC</th>\n",
       "    </tr>\n",
       "  </thead>\n",
       "  <tbody>\n",
       "    <tr>\n",
       "      <th>0</th>\n",
       "      <td>6</td>\n",
       "      <td>-0.052</td>\n",
       "      <td>21.889999</td>\n",
       "      <td>3.690</td>\n",
       "      <td>3.498</td>\n",
       "      <td>14.70</td>\n",
       "      <td>45</td>\n",
       "      <td>8</td>\n",
       "      <td>0</td>\n",
       "      <td>0</td>\n",
       "      <td>10</td>\n",
       "      <td>34</td>\n",
       "      <td>1</td>\n",
       "      <td>1</td>\n",
       "      <td>1</td>\n",
       "    </tr>\n",
       "    <tr>\n",
       "      <th>1</th>\n",
       "      <td>6</td>\n",
       "      <td>0.608</td>\n",
       "      <td>22.379999</td>\n",
       "      <td>3.702</td>\n",
       "      <td>3.392</td>\n",
       "      <td>15.29</td>\n",
       "      <td>4</td>\n",
       "      <td>0</td>\n",
       "      <td>1</td>\n",
       "      <td>1</td>\n",
       "      <td>7</td>\n",
       "      <td>12</td>\n",
       "      <td>1</td>\n",
       "      <td>1</td>\n",
       "      <td>0</td>\n",
       "    </tr>\n",
       "    <tr>\n",
       "      <th>2</th>\n",
       "      <td>6</td>\n",
       "      <td>1.179</td>\n",
       "      <td>22.490000</td>\n",
       "      <td>3.462</td>\n",
       "      <td>3.514</td>\n",
       "      <td>15.52</td>\n",
       "      <td>14</td>\n",
       "      <td>0</td>\n",
       "      <td>2</td>\n",
       "      <td>0</td>\n",
       "      <td>10</td>\n",
       "      <td>14</td>\n",
       "      <td>0</td>\n",
       "      <td>0</td>\n",
       "      <td>0</td>\n",
       "    </tr>\n",
       "    <tr>\n",
       "      <th>3</th>\n",
       "      <td>6</td>\n",
       "      <td>0.525</td>\n",
       "      <td>22.200001</td>\n",
       "      <td>3.862</td>\n",
       "      <td>3.612</td>\n",
       "      <td>14.73</td>\n",
       "      <td>18</td>\n",
       "      <td>11</td>\n",
       "      <td>0</td>\n",
       "      <td>0</td>\n",
       "      <td>4</td>\n",
       "      <td>37</td>\n",
       "      <td>0</td>\n",
       "      <td>1</td>\n",
       "      <td>1</td>\n",
       "    </tr>\n",
       "    <tr>\n",
       "      <th>4</th>\n",
       "      <td>5</td>\n",
       "      <td>0.697</td>\n",
       "      <td>23.290001</td>\n",
       "      <td>3.676</td>\n",
       "      <td>3.454</td>\n",
       "      <td>16.16</td>\n",
       "      <td>14</td>\n",
       "      <td>0</td>\n",
       "      <td>0</td>\n",
       "      <td>0</td>\n",
       "      <td>4</td>\n",
       "      <td>4</td>\n",
       "      <td>1</td>\n",
       "      <td>0</td>\n",
       "      <td>0</td>\n",
       "    </tr>\n",
       "  </tbody>\n",
       "</table>\n",
       "</div>"
      ],
      "text/plain": [
       "   AGE  SPHEQ         AL    ACD     LT    VCD  SPORTHR  READHR  COMPHR  \\\n",
       "0    6 -0.052  21.889999  3.690  3.498  14.70       45       8       0   \n",
       "1    6  0.608  22.379999  3.702  3.392  15.29        4       0       1   \n",
       "2    6  1.179  22.490000  3.462  3.514  15.52       14       0       2   \n",
       "3    6  0.525  22.200001  3.862  3.612  14.73       18      11       0   \n",
       "4    5  0.697  23.290001  3.676  3.454  16.16       14       0       0   \n",
       "\n",
       "   STUDYHR  TVHR  DIOPTERHR  MOMMY  DADMY  MYOPIC  \n",
       "0        0    10         34      1      1       1  \n",
       "1        1     7         12      1      1       0  \n",
       "2        0    10         14      0      0       0  \n",
       "3        0     4         37      0      1       1  \n",
       "4        0     4          4      1      0       0  "
      ]
     },
     "execution_count": 2,
     "metadata": {},
     "output_type": "execute_result"
    }
   ],
   "source": [
    "# Loading data\n",
    "file_path = Path(\"Resources/myopia.csv\")\n",
    "myopia_df = pd.read_csv(file_path)\n",
    "myopia_df.head()"
   ]
  },
  {
   "cell_type": "code",
   "execution_count": 3,
   "id": "d68d6039",
   "metadata": {},
   "outputs": [
    {
     "data": {
      "text/plain": [
       "array([1, 0], dtype=int64)"
      ]
     },
     "execution_count": 3,
     "metadata": {},
     "output_type": "execute_result"
    }
   ],
   "source": [
    "# Identify all the possible values in the MYOPIC column\n",
    "myopia_df['MYOPIC'].unique()"
   ]
  },
  {
   "cell_type": "code",
   "execution_count": 4,
   "id": "1670c4ef",
   "metadata": {},
   "outputs": [
    {
     "data": {
      "text/html": [
       "<div>\n",
       "<style scoped>\n",
       "    .dataframe tbody tr th:only-of-type {\n",
       "        vertical-align: middle;\n",
       "    }\n",
       "\n",
       "    .dataframe tbody tr th {\n",
       "        vertical-align: top;\n",
       "    }\n",
       "\n",
       "    .dataframe thead th {\n",
       "        text-align: right;\n",
       "    }\n",
       "</style>\n",
       "<table border=\"1\" class=\"dataframe\">\n",
       "  <thead>\n",
       "    <tr style=\"text-align: right;\">\n",
       "      <th></th>\n",
       "      <th>AGE</th>\n",
       "      <th>SPHEQ</th>\n",
       "      <th>AL</th>\n",
       "      <th>ACD</th>\n",
       "      <th>LT</th>\n",
       "      <th>VCD</th>\n",
       "      <th>SPORTHR</th>\n",
       "      <th>READHR</th>\n",
       "      <th>COMPHR</th>\n",
       "      <th>STUDYHR</th>\n",
       "      <th>TVHR</th>\n",
       "      <th>DIOPTERHR</th>\n",
       "      <th>MOMMY</th>\n",
       "      <th>DADMY</th>\n",
       "    </tr>\n",
       "  </thead>\n",
       "  <tbody>\n",
       "    <tr>\n",
       "      <th>0</th>\n",
       "      <td>6</td>\n",
       "      <td>-0.052</td>\n",
       "      <td>21.889999</td>\n",
       "      <td>3.690</td>\n",
       "      <td>3.498</td>\n",
       "      <td>14.70</td>\n",
       "      <td>45</td>\n",
       "      <td>8</td>\n",
       "      <td>0</td>\n",
       "      <td>0</td>\n",
       "      <td>10</td>\n",
       "      <td>34</td>\n",
       "      <td>1</td>\n",
       "      <td>1</td>\n",
       "    </tr>\n",
       "    <tr>\n",
       "      <th>1</th>\n",
       "      <td>6</td>\n",
       "      <td>0.608</td>\n",
       "      <td>22.379999</td>\n",
       "      <td>3.702</td>\n",
       "      <td>3.392</td>\n",
       "      <td>15.29</td>\n",
       "      <td>4</td>\n",
       "      <td>0</td>\n",
       "      <td>1</td>\n",
       "      <td>1</td>\n",
       "      <td>7</td>\n",
       "      <td>12</td>\n",
       "      <td>1</td>\n",
       "      <td>1</td>\n",
       "    </tr>\n",
       "    <tr>\n",
       "      <th>2</th>\n",
       "      <td>6</td>\n",
       "      <td>1.179</td>\n",
       "      <td>22.490000</td>\n",
       "      <td>3.462</td>\n",
       "      <td>3.514</td>\n",
       "      <td>15.52</td>\n",
       "      <td>14</td>\n",
       "      <td>0</td>\n",
       "      <td>2</td>\n",
       "      <td>0</td>\n",
       "      <td>10</td>\n",
       "      <td>14</td>\n",
       "      <td>0</td>\n",
       "      <td>0</td>\n",
       "    </tr>\n",
       "    <tr>\n",
       "      <th>3</th>\n",
       "      <td>6</td>\n",
       "      <td>0.525</td>\n",
       "      <td>22.200001</td>\n",
       "      <td>3.862</td>\n",
       "      <td>3.612</td>\n",
       "      <td>14.73</td>\n",
       "      <td>18</td>\n",
       "      <td>11</td>\n",
       "      <td>0</td>\n",
       "      <td>0</td>\n",
       "      <td>4</td>\n",
       "      <td>37</td>\n",
       "      <td>0</td>\n",
       "      <td>1</td>\n",
       "    </tr>\n",
       "    <tr>\n",
       "      <th>4</th>\n",
       "      <td>5</td>\n",
       "      <td>0.697</td>\n",
       "      <td>23.290001</td>\n",
       "      <td>3.676</td>\n",
       "      <td>3.454</td>\n",
       "      <td>16.16</td>\n",
       "      <td>14</td>\n",
       "      <td>0</td>\n",
       "      <td>0</td>\n",
       "      <td>0</td>\n",
       "      <td>4</td>\n",
       "      <td>4</td>\n",
       "      <td>1</td>\n",
       "      <td>0</td>\n",
       "    </tr>\n",
       "    <tr>\n",
       "      <th>5</th>\n",
       "      <td>6</td>\n",
       "      <td>1.744</td>\n",
       "      <td>22.139999</td>\n",
       "      <td>3.224</td>\n",
       "      <td>3.556</td>\n",
       "      <td>15.36</td>\n",
       "      <td>10</td>\n",
       "      <td>6</td>\n",
       "      <td>2</td>\n",
       "      <td>1</td>\n",
       "      <td>19</td>\n",
       "      <td>44</td>\n",
       "      <td>0</td>\n",
       "      <td>1</td>\n",
       "    </tr>\n",
       "    <tr>\n",
       "      <th>6</th>\n",
       "      <td>6</td>\n",
       "      <td>0.683</td>\n",
       "      <td>22.330000</td>\n",
       "      <td>3.186</td>\n",
       "      <td>3.654</td>\n",
       "      <td>15.49</td>\n",
       "      <td>12</td>\n",
       "      <td>7</td>\n",
       "      <td>2</td>\n",
       "      <td>1</td>\n",
       "      <td>8</td>\n",
       "      <td>36</td>\n",
       "      <td>0</td>\n",
       "      <td>1</td>\n",
       "    </tr>\n",
       "    <tr>\n",
       "      <th>7</th>\n",
       "      <td>6</td>\n",
       "      <td>1.272</td>\n",
       "      <td>22.389999</td>\n",
       "      <td>3.732</td>\n",
       "      <td>3.584</td>\n",
       "      <td>15.08</td>\n",
       "      <td>12</td>\n",
       "      <td>0</td>\n",
       "      <td>0</td>\n",
       "      <td>0</td>\n",
       "      <td>8</td>\n",
       "      <td>8</td>\n",
       "      <td>0</td>\n",
       "      <td>0</td>\n",
       "    </tr>\n",
       "    <tr>\n",
       "      <th>8</th>\n",
       "      <td>7</td>\n",
       "      <td>1.396</td>\n",
       "      <td>22.620001</td>\n",
       "      <td>3.464</td>\n",
       "      <td>3.408</td>\n",
       "      <td>15.74</td>\n",
       "      <td>4</td>\n",
       "      <td>0</td>\n",
       "      <td>3</td>\n",
       "      <td>1</td>\n",
       "      <td>3</td>\n",
       "      <td>12</td>\n",
       "      <td>0</td>\n",
       "      <td>0</td>\n",
       "    </tr>\n",
       "    <tr>\n",
       "      <th>9</th>\n",
       "      <td>6</td>\n",
       "      <td>0.972</td>\n",
       "      <td>22.740000</td>\n",
       "      <td>3.504</td>\n",
       "      <td>3.696</td>\n",
       "      <td>15.54</td>\n",
       "      <td>30</td>\n",
       "      <td>5</td>\n",
       "      <td>1</td>\n",
       "      <td>0</td>\n",
       "      <td>10</td>\n",
       "      <td>27</td>\n",
       "      <td>0</td>\n",
       "      <td>0</td>\n",
       "    </tr>\n",
       "  </tbody>\n",
       "</table>\n",
       "</div>"
      ],
      "text/plain": [
       "   AGE  SPHEQ         AL    ACD     LT    VCD  SPORTHR  READHR  COMPHR  \\\n",
       "0    6 -0.052  21.889999  3.690  3.498  14.70       45       8       0   \n",
       "1    6  0.608  22.379999  3.702  3.392  15.29        4       0       1   \n",
       "2    6  1.179  22.490000  3.462  3.514  15.52       14       0       2   \n",
       "3    6  0.525  22.200001  3.862  3.612  14.73       18      11       0   \n",
       "4    5  0.697  23.290001  3.676  3.454  16.16       14       0       0   \n",
       "5    6  1.744  22.139999  3.224  3.556  15.36       10       6       2   \n",
       "6    6  0.683  22.330000  3.186  3.654  15.49       12       7       2   \n",
       "7    6  1.272  22.389999  3.732  3.584  15.08       12       0       0   \n",
       "8    7  1.396  22.620001  3.464  3.408  15.74        4       0       3   \n",
       "9    6  0.972  22.740000  3.504  3.696  15.54       30       5       1   \n",
       "\n",
       "   STUDYHR  TVHR  DIOPTERHR  MOMMY  DADMY  \n",
       "0        0    10         34      1      1  \n",
       "1        1     7         12      1      1  \n",
       "2        0    10         14      0      0  \n",
       "3        0     4         37      0      1  \n",
       "4        0     4          4      1      0  \n",
       "5        1    19         44      0      1  \n",
       "6        1     8         36      0      1  \n",
       "7        0     8          8      0      0  \n",
       "8        1     3         12      0      0  \n",
       "9        0    10         27      0      0  "
      ]
     },
     "execution_count": 4,
     "metadata": {},
     "output_type": "execute_result"
    }
   ],
   "source": [
    "# But since we don't actually need the MYOPIC column for unsupervised learning...\n",
    "# Drop the MYOPIC column in new dataframe\n",
    "new_myopia_df = myopia_df.drop([\"MYOPIC\"], axis='columns')\n",
    "\n",
    "# Set the MYOPIC column equal to the labels\n",
    "labels = myopia_df['MYOPIC']\n",
    "\n",
    "new_myopia_df.head(10)"
   ]
  },
  {
   "cell_type": "code",
   "execution_count": 5,
   "id": "79ade9ad",
   "metadata": {},
   "outputs": [
    {
     "name": "stdout",
     "output_type": "stream",
     "text": [
      "[[-0.42021911 -1.3639169  -0.89286146  0.48378402 -0.28144315 -1.0197916\n",
      "   4.1506609   1.69744958 -0.68931054 -0.67299591  0.18405806  0.49830393\n",
      "   0.98713773  1.0032415 ]\n",
      " [-0.42021911 -0.30861224 -0.1718398   0.53591028 -0.96799728 -0.13076253\n",
      "  -0.99889822 -0.91206246 -0.36187479 -0.22140908 -0.34093217 -0.87508755\n",
      "   0.98713773  1.0032415 ]\n",
      " [-0.42021911  0.60438629 -0.00997682 -0.5066285  -0.17781207  0.21580879\n",
      "   0.25709181 -0.91206246 -0.03443904 -0.67299591  0.18405806 -0.75023378\n",
      "  -1.01302987 -0.99676897]]\n"
     ]
    }
   ],
   "source": [
    "# Standardize dataset with StandarScaler\n",
    "\n",
    "X = StandardScaler().fit_transform(new_myopia_df)\n",
    "print(X[0:3])"
   ]
  },
  {
   "cell_type": "markdown",
   "id": "9ab48c71",
   "metadata": {},
   "source": [
    "## Part 2: Apply Dimensionality Reduction"
   ]
  },
  {
   "cell_type": "markdown",
   "id": "44ce5ea6",
   "metadata": {},
   "source": [
    "### Perform dimensionality reduction with PCA"
   ]
  },
  {
   "cell_type": "code",
   "execution_count": 6,
   "id": "2dc344c5",
   "metadata": {},
   "outputs": [],
   "source": [
    "# Applying PCA to preserve 90% of the explained variance in dimensionality reduction\n",
    "\n",
    "# Initialize PCA model\n",
    "pca = PCA(n_components=0.90)\n",
    "\n",
    "# Get 90% principal components for the iris data.\n",
    "myopia_pca = pca.fit_transform(X)"
   ]
  },
  {
   "cell_type": "code",
   "execution_count": 7,
   "id": "37f96c03",
   "metadata": {},
   "outputs": [
    {
     "data": {
      "text/plain": [
       "array([[ 5.35502713e-01,  1.14500427e+00, -1.38501894e+00, ...,\n",
       "        -1.92299652e+00,  2.67528503e-02,  1.78143856e-01],\n",
       "       [-6.24705593e-01, -1.57578643e+00, -7.94253057e-01, ...,\n",
       "         2.85332291e-01,  6.89682613e-01, -5.57030831e-01],\n",
       "       [-9.33479366e-01, -7.17076224e-01,  8.20149929e-01, ...,\n",
       "        -3.08170124e-02, -4.31499076e-01,  1.33358217e-02],\n",
       "       ...,\n",
       "       [-8.90082017e-01, -2.30800520e+00,  2.68101833e-01, ...,\n",
       "        -4.89876908e-01,  1.82269069e+00,  8.17765449e-02],\n",
       "       [-1.12399979e+00,  4.51889784e-01,  1.65865634e-03, ...,\n",
       "         2.39685015e-01, -1.59282241e+00, -1.01458084e+00],\n",
       "       [-6.91533913e-01, -7.37046188e-01, -1.05290000e+00, ...,\n",
       "        -2.73804495e-01,  9.46160724e-01,  4.95797353e-01]])"
      ]
     },
     "execution_count": 7,
     "metadata": {},
     "output_type": "execute_result"
    }
   ],
   "source": [
    "myopia_pca"
   ]
  },
  {
   "cell_type": "code",
   "execution_count": 8,
   "id": "b190d27d",
   "metadata": {},
   "outputs": [
    {
     "data": {
      "text/plain": [
       "array([0.21177355, 0.15659716, 0.08688023, 0.08301762, 0.07584858,\n",
       "       0.06997878, 0.06486986, 0.06377808, 0.05393666, 0.05205566])"
      ]
     },
     "execution_count": 8,
     "metadata": {},
     "output_type": "execute_result"
    }
   ],
   "source": [
    "# Fetch the explained variance - checking the variability\n",
    "pca.explained_variance_ratio_"
   ]
  },
  {
   "cell_type": "code",
   "execution_count": 9,
   "id": "0a7996dd",
   "metadata": {},
   "outputs": [
    {
     "data": {
      "text/plain": [
       "([<matplotlib.axis.XTick at 0x1ec52121070>,\n",
       "  <matplotlib.axis.XTick at 0x1ec52121040>,\n",
       "  <matplotlib.axis.XTick at 0x1ec5210e6a0>,\n",
       "  <matplotlib.axis.XTick at 0x1ec5216df10>,\n",
       "  <matplotlib.axis.XTick at 0x1ec521836a0>,\n",
       "  <matplotlib.axis.XTick at 0x1ec52183df0>,\n",
       "  <matplotlib.axis.XTick at 0x1ec521836d0>,\n",
       "  <matplotlib.axis.XTick at 0x1ec5218a400>,\n",
       "  <matplotlib.axis.XTick at 0x1ec5218aa90>,\n",
       "  <matplotlib.axis.XTick at 0x1ec52191220>],\n",
       " [Text(0, 0, ''),\n",
       "  Text(0, 0, ''),\n",
       "  Text(0, 0, ''),\n",
       "  Text(0, 0, ''),\n",
       "  Text(0, 0, ''),\n",
       "  Text(0, 0, ''),\n",
       "  Text(0, 0, ''),\n",
       "  Text(0, 0, ''),\n",
       "  Text(0, 0, ''),\n",
       "  Text(0, 0, '')])"
      ]
     },
     "execution_count": 9,
     "metadata": {},
     "output_type": "execute_result"
    },
    {
     "data": {
      "image/png": "[encoded data removed]",
      "text/plain": [
       "<Figure size 432x288 with 1 Axes>"
      ]
     },
     "metadata": {
      "needs_background": "light"
     },
     "output_type": "display_data"
    }
   ],
   "source": [
    "#Plot the explained variance\n",
    "\n",
    "features = range(pca.n_components_)\n",
    "plt.bar(features, pca.explained_variance_ratio_, color='green')\n",
    "plt.xlabel('PCA features')\n",
    "plt.ylabel('Variance %')\n",
    "plt.xticks(features)"
   ]
  },
  {
   "cell_type": "markdown",
   "id": "4c388c43",
   "metadata": {},
   "source": [
    "**How did the number of the features change?**\n",
    "PCA is used to prevent the problem of overfitting by reducing the number of input features. Initially we had 14 features and it was reduced to 10. The chart above shows that  the first 3 features explain majority of the variance in the data."
   ]
  },
  {
   "cell_type": "code",
   "execution_count": 10,
   "id": "bc774094",
   "metadata": {},
   "outputs": [
    {
     "data": {
      "text/html": [
       "<div>\n",
       "<style scoped>\n",
       "    .dataframe tbody tr th:only-of-type {\n",
       "        vertical-align: middle;\n",
       "    }\n",
       "\n",
       "    .dataframe tbody tr th {\n",
       "        vertical-align: top;\n",
       "    }\n",
       "\n",
       "    .dataframe thead th {\n",
       "        text-align: right;\n",
       "    }\n",
       "</style>\n",
       "<table border=\"1\" class=\"dataframe\">\n",
       "  <thead>\n",
       "    <tr style=\"text-align: right;\">\n",
       "      <th></th>\n",
       "      <th>0</th>\n",
       "      <th>1</th>\n",
       "      <th>2</th>\n",
       "      <th>3</th>\n",
       "      <th>4</th>\n",
       "      <th>5</th>\n",
       "      <th>6</th>\n",
       "      <th>7</th>\n",
       "      <th>8</th>\n",
       "      <th>9</th>\n",
       "    </tr>\n",
       "  </thead>\n",
       "  <tbody>\n",
       "    <tr>\n",
       "      <th>0</th>\n",
       "      <td>0.535503</td>\n",
       "      <td>1.145004</td>\n",
       "      <td>-1.385019</td>\n",
       "      <td>0.116006</td>\n",
       "      <td>-3.226691</td>\n",
       "      <td>-1.928459</td>\n",
       "      <td>-1.958892</td>\n",
       "      <td>-1.922997</td>\n",
       "      <td>0.026753</td>\n",
       "      <td>0.178144</td>\n",
       "    </tr>\n",
       "    <tr>\n",
       "      <th>1</th>\n",
       "      <td>-0.624706</td>\n",
       "      <td>-1.575786</td>\n",
       "      <td>-0.794253</td>\n",
       "      <td>1.156287</td>\n",
       "      <td>0.292256</td>\n",
       "      <td>0.349060</td>\n",
       "      <td>-0.455206</td>\n",
       "      <td>0.285332</td>\n",
       "      <td>0.689683</td>\n",
       "      <td>-0.557031</td>\n",
       "    </tr>\n",
       "    <tr>\n",
       "      <th>2</th>\n",
       "      <td>-0.933479</td>\n",
       "      <td>-0.717076</td>\n",
       "      <td>0.820150</td>\n",
       "      <td>-1.547638</td>\n",
       "      <td>0.173941</td>\n",
       "      <td>0.272783</td>\n",
       "      <td>0.025821</td>\n",
       "      <td>-0.030817</td>\n",
       "      <td>-0.431499</td>\n",
       "      <td>0.013336</td>\n",
       "    </tr>\n",
       "  </tbody>\n",
       "</table>\n",
       "</div>"
      ],
      "text/plain": [
       "          0         1         2         3         4         5         6  \\\n",
       "0  0.535503  1.145004 -1.385019  0.116006 -3.226691 -1.928459 -1.958892   \n",
       "1 -0.624706 -1.575786 -0.794253  1.156287  0.292256  0.349060 -0.455206   \n",
       "2 -0.933479 -0.717076  0.820150 -1.547638  0.173941  0.272783  0.025821   \n",
       "\n",
       "          7         8         9  \n",
       "0 -1.922997  0.026753  0.178144  \n",
       "1  0.285332  0.689683 -0.557031  \n",
       "2 -0.030817 -0.431499  0.013336  "
      ]
     },
     "execution_count": 10,
     "metadata": {},
     "output_type": "execute_result"
    }
   ],
   "source": [
    "# Transform PCA data to a DataFrame\n",
    "df_myopia_pca =pd.DataFrame(myopia_pca)\n",
    "df_myopia_pca.head(3)"
   ]
  },
  {
   "cell_type": "code",
   "execution_count": 11,
   "id": "02466c23",
   "metadata": {},
   "outputs": [
    {
     "data": {
      "image/png": "[encoded data removed]",
      "text/plain": [
       "<Figure size 432x288 with 1 Axes>"
      ]
     },
     "metadata": {
      "needs_background": "light"
     },
     "output_type": "display_data"
    }
   ],
   "source": [
    "# Visualize the clusters for the first two values\n",
    "plt.scatter(x=df_myopia_pca[0], y=df_myopia_pca[1], alpha=0.5)\n",
    "plt.xlabel('Principal component 1')\n",
    "plt.ylabel('Principal component 2')\n",
    "plt.title('Myopia clusters')\n",
    "plt.show()"
   ]
  },
  {
   "cell_type": "markdown",
   "id": "e21604bb",
   "metadata": {},
   "source": [
    "### Perform dimensionality reduction with t-SNE"
   ]
  },
  {
   "cell_type": "code",
   "execution_count": 12,
   "id": "8f4fa9b3",
   "metadata": {},
   "outputs": [],
   "source": [
    "# Initialize t-SNE model\n",
    "tsne = TSNE(learning_rate=100)"
   ]
  },
  {
   "cell_type": "code",
   "execution_count": 13,
   "id": "5cb60e15",
   "metadata": {},
   "outputs": [],
   "source": [
    "# Reduce dimensions\n",
    "tsne_features = tsne.fit_transform(myopia_pca)"
   ]
  },
  {
   "cell_type": "code",
   "execution_count": 14,
   "id": "c8f44d01",
   "metadata": {},
   "outputs": [
    {
     "data": {
      "text/plain": [
       "(618, 2)"
      ]
     },
     "execution_count": 14,
     "metadata": {},
     "output_type": "execute_result"
    }
   ],
   "source": [
    "# The dataset has 2 columns\n",
    "tsne_features.shape"
   ]
  },
  {
   "cell_type": "code",
   "execution_count": 15,
   "id": "753631b3",
   "metadata": {},
   "outputs": [
    {
     "data": {
      "image/png": "[encoded data removed]",
      "text/plain": [
       "<Figure size 432x288 with 1 Axes>"
      ]
     },
     "metadata": {
      "needs_background": "light"
     },
     "output_type": "display_data"
    }
   ],
   "source": [
    "# Visualize the clusters (default)\n",
    "plt.scatter(tsne_features[:,0], tsne_features[:,1])\n",
    "plt.show()"
   ]
  },
  {
   "cell_type": "code",
   "execution_count": 16,
   "id": "73314100",
   "metadata": {},
   "outputs": [
    {
     "data": {
      "image/png": "[encoded data removed]",
      "text/plain": [
       "<Figure size 432x288 with 1 Axes>"
      ]
     },
     "metadata": {
      "needs_background": "light"
     },
     "output_type": "display_data"
    }
   ],
   "source": [
    "# Visualize the clusters with colors\n",
    "plt.scatter(tsne_features[:,0], tsne_features[:,1],c=labels)\n",
    "plt.show()"
   ]
  },
  {
   "cell_type": "markdown",
   "id": "d1ce82e5",
   "metadata": {},
   "source": [
    "Based on the scatter plot above, visually, there may be about 5 distinct clusters."
   ]
  },
  {
   "cell_type": "markdown",
   "id": "4357027d",
   "metadata": {},
   "source": [
    "## Part 3: Perform a Cluster Analysis with K-means"
   ]
  },
  {
   "cell_type": "code",
   "execution_count": 17,
   "id": "2f6c52f9",
   "metadata": {},
   "outputs": [
    {
     "name": "stderr",
     "output_type": "stream",
     "text": [
      "C:\\bootcamp\\anaconda3\\lib\\site-packages\\sklearn\\cluster\\_kmeans.py:881: UserWarning: KMeans is known to have a memory leak on Windows with MKL, when there are less chunks than available threads. You can avoid it by setting the environment variable OMP_NUM_THREADS=3.\n",
      "  warnings.warn(\n"
     ]
    },
    {
     "data": {
      "text/html": [
       "<div>\n",
       "<style scoped>\n",
       "    .dataframe tbody tr th:only-of-type {\n",
       "        vertical-align: middle;\n",
       "    }\n",
       "\n",
       "    .dataframe tbody tr th {\n",
       "        vertical-align: top;\n",
       "    }\n",
       "\n",
       "    .dataframe thead th {\n",
       "        text-align: right;\n",
       "    }\n",
       "</style>\n",
       "<table border=\"1\" class=\"dataframe\">\n",
       "  <thead>\n",
       "    <tr style=\"text-align: right;\">\n",
       "      <th></th>\n",
       "      <th>k</th>\n",
       "      <th>inertia</th>\n",
       "    </tr>\n",
       "  </thead>\n",
       "  <tbody>\n",
       "    <tr>\n",
       "      <th>0</th>\n",
       "      <td>1</td>\n",
       "      <td>7948.905345</td>\n",
       "    </tr>\n",
       "    <tr>\n",
       "      <th>1</th>\n",
       "      <td>2</td>\n",
       "      <td>6794.415695</td>\n",
       "    </tr>\n",
       "    <tr>\n",
       "      <th>2</th>\n",
       "      <td>3</td>\n",
       "      <td>6031.097742</td>\n",
       "    </tr>\n",
       "    <tr>\n",
       "      <th>3</th>\n",
       "      <td>4</td>\n",
       "      <td>5662.587617</td>\n",
       "    </tr>\n",
       "    <tr>\n",
       "      <th>4</th>\n",
       "      <td>5</td>\n",
       "      <td>5376.410589</td>\n",
       "    </tr>\n",
       "  </tbody>\n",
       "</table>\n",
       "</div>"
      ],
      "text/plain": [
       "   k      inertia\n",
       "0  1  7948.905345\n",
       "1  2  6794.415695\n",
       "2  3  6031.097742\n",
       "3  4  5662.587617\n",
       "4  5  5376.410589"
      ]
     },
     "execution_count": 17,
     "metadata": {},
     "output_type": "execute_result"
    }
   ],
   "source": [
    "inertia = []\n",
    "k = list(range(1, 11))\n",
    "\n",
    "# Calculate the inertia for the range of k values\n",
    "for i in k:\n",
    "    myopia_model = KMeans(n_clusters=i, random_state=0)\n",
    "    myopia_model.fit(df_myopia_pca)\n",
    "    inertia.append(myopia_model.inertia_)\n",
    "\n",
    "# Create the Elbow Curve using hvPlot\n",
    "myopia_elbow_data = {\"k\": k, \"inertia\": inertia}\n",
    "myopia_df_elbow = pd.DataFrame(myopia_elbow_data)\n",
    "myopia_df_elbow.head()"
   ]
  },
  {
   "cell_type": "code",
   "execution_count": 18,
   "id": "1b28e7e4",
   "metadata": {},
   "outputs": [
    {
     "data": {
      "image/png": "[encoded data removed]",
      "text/plain": [
       "<Figure size 432x288 with 1 Axes>"
      ]
     },
     "metadata": {
      "needs_background": "light"
     },
     "output_type": "display_data"
    }
   ],
   "source": [
    "# Plot the elbow curve to find the best candidate(s) for k\n",
    "plt.plot(myopia_df_elbow['k'], myopia_df_elbow['inertia'])\n",
    "plt.xticks(range(1,11))\n",
    "plt.xlabel('Number of clusters')\n",
    "plt.ylabel('Inertia')\n",
    "plt.title('Elbow curve for Myopia data')\n",
    "plt.show()"
   ]
  },
  {
   "cell_type": "markdown",
   "id": "cd612c72",
   "metadata": {},
   "source": [
    "Based on the plot above, the elbow of the plot is at k= 3."
   ]
  },
  {
   "cell_type": "markdown",
   "id": "183d3703",
   "metadata": {},
   "source": [
    "### Reusing a function from the course \"get_clusters(k,data)\"\n",
    "\n",
    "Function called get_clusters(k, data) that finds the k clusters using K-Means on data. The function will return a DataFrame copy of Data that should include a new column containing the clusters found.\n",
    "    \n",
    "    * Since based on the plot above, I will be passing k = 3 to this function."
   ]
  },
  {
   "cell_type": "code",
   "execution_count": 19,
   "id": "1a5777de",
   "metadata": {},
   "outputs": [],
   "source": [
    "#Function that finds the k clusters using K-Means on data\n",
    "\n",
    "def get_clusters(k, data):\n",
    "    # Initialize the K-Means model\n",
    "    model = KMeans(n_clusters=k, random_state=0)\n",
    "\n",
    "    # Train the model\n",
    "    model.fit(data)\n",
    "\n",
    "    # Predict clusters\n",
    "    predictions = model.predict(data)\n",
    "\n",
    "    # Create return DataFrame with predicted clusters\n",
    "    data[\"class\"] = model.labels_\n",
    "\n",
    "    return data"
   ]
  },
  {
   "cell_type": "code",
   "execution_count": 20,
   "id": "3aaf78bd",
   "metadata": {},
   "outputs": [
    {
     "data": {
      "text/html": [
       "<div>\n",
       "<style scoped>\n",
       "    .dataframe tbody tr th:only-of-type {\n",
       "        vertical-align: middle;\n",
       "    }\n",
       "\n",
       "    .dataframe tbody tr th {\n",
       "        vertical-align: top;\n",
       "    }\n",
       "\n",
       "    .dataframe thead th {\n",
       "        text-align: right;\n",
       "    }\n",
       "</style>\n",
       "<table border=\"1\" class=\"dataframe\">\n",
       "  <thead>\n",
       "    <tr style=\"text-align: right;\">\n",
       "      <th></th>\n",
       "      <th>AGE</th>\n",
       "      <th>SPHEQ</th>\n",
       "      <th>AL</th>\n",
       "      <th>ACD</th>\n",
       "      <th>LT</th>\n",
       "      <th>VCD</th>\n",
       "      <th>SPORTHR</th>\n",
       "      <th>READHR</th>\n",
       "      <th>COMPHR</th>\n",
       "      <th>STUDYHR</th>\n",
       "      <th>TVHR</th>\n",
       "      <th>DIOPTERHR</th>\n",
       "      <th>MOMMY</th>\n",
       "      <th>DADMY</th>\n",
       "      <th>MYOPIC</th>\n",
       "      <th>class</th>\n",
       "    </tr>\n",
       "  </thead>\n",
       "  <tbody>\n",
       "    <tr>\n",
       "      <th>0</th>\n",
       "      <td>6</td>\n",
       "      <td>-0.052</td>\n",
       "      <td>21.889999</td>\n",
       "      <td>3.690</td>\n",
       "      <td>3.498</td>\n",
       "      <td>14.70</td>\n",
       "      <td>45</td>\n",
       "      <td>8</td>\n",
       "      <td>0</td>\n",
       "      <td>0</td>\n",
       "      <td>10</td>\n",
       "      <td>34</td>\n",
       "      <td>1</td>\n",
       "      <td>1</td>\n",
       "      <td>1</td>\n",
       "      <td>2</td>\n",
       "    </tr>\n",
       "    <tr>\n",
       "      <th>1</th>\n",
       "      <td>6</td>\n",
       "      <td>0.608</td>\n",
       "      <td>22.379999</td>\n",
       "      <td>3.702</td>\n",
       "      <td>3.392</td>\n",
       "      <td>15.29</td>\n",
       "      <td>4</td>\n",
       "      <td>0</td>\n",
       "      <td>1</td>\n",
       "      <td>1</td>\n",
       "      <td>7</td>\n",
       "      <td>12</td>\n",
       "      <td>1</td>\n",
       "      <td>1</td>\n",
       "      <td>0</td>\n",
       "      <td>0</td>\n",
       "    </tr>\n",
       "    <tr>\n",
       "      <th>2</th>\n",
       "      <td>6</td>\n",
       "      <td>1.179</td>\n",
       "      <td>22.490000</td>\n",
       "      <td>3.462</td>\n",
       "      <td>3.514</td>\n",
       "      <td>15.52</td>\n",
       "      <td>14</td>\n",
       "      <td>0</td>\n",
       "      <td>2</td>\n",
       "      <td>0</td>\n",
       "      <td>10</td>\n",
       "      <td>14</td>\n",
       "      <td>0</td>\n",
       "      <td>0</td>\n",
       "      <td>0</td>\n",
       "      <td>0</td>\n",
       "    </tr>\n",
       "    <tr>\n",
       "      <th>3</th>\n",
       "      <td>6</td>\n",
       "      <td>0.525</td>\n",
       "      <td>22.200001</td>\n",
       "      <td>3.862</td>\n",
       "      <td>3.612</td>\n",
       "      <td>14.73</td>\n",
       "      <td>18</td>\n",
       "      <td>11</td>\n",
       "      <td>0</td>\n",
       "      <td>0</td>\n",
       "      <td>4</td>\n",
       "      <td>37</td>\n",
       "      <td>0</td>\n",
       "      <td>1</td>\n",
       "      <td>1</td>\n",
       "      <td>2</td>\n",
       "    </tr>\n",
       "    <tr>\n",
       "      <th>4</th>\n",
       "      <td>5</td>\n",
       "      <td>0.697</td>\n",
       "      <td>23.290001</td>\n",
       "      <td>3.676</td>\n",
       "      <td>3.454</td>\n",
       "      <td>16.16</td>\n",
       "      <td>14</td>\n",
       "      <td>0</td>\n",
       "      <td>0</td>\n",
       "      <td>0</td>\n",
       "      <td>4</td>\n",
       "      <td>4</td>\n",
       "      <td>1</td>\n",
       "      <td>0</td>\n",
       "      <td>0</td>\n",
       "      <td>0</td>\n",
       "    </tr>\n",
       "    <tr>\n",
       "      <th>...</th>\n",
       "      <td>...</td>\n",
       "      <td>...</td>\n",
       "      <td>...</td>\n",
       "      <td>...</td>\n",
       "      <td>...</td>\n",
       "      <td>...</td>\n",
       "      <td>...</td>\n",
       "      <td>...</td>\n",
       "      <td>...</td>\n",
       "      <td>...</td>\n",
       "      <td>...</td>\n",
       "      <td>...</td>\n",
       "      <td>...</td>\n",
       "      <td>...</td>\n",
       "      <td>...</td>\n",
       "      <td>...</td>\n",
       "    </tr>\n",
       "    <tr>\n",
       "      <th>613</th>\n",
       "      <td>6</td>\n",
       "      <td>0.678</td>\n",
       "      <td>22.400000</td>\n",
       "      <td>3.663</td>\n",
       "      <td>3.803</td>\n",
       "      <td>14.93</td>\n",
       "      <td>2</td>\n",
       "      <td>0</td>\n",
       "      <td>7</td>\n",
       "      <td>3</td>\n",
       "      <td>14</td>\n",
       "      <td>37</td>\n",
       "      <td>1</td>\n",
       "      <td>0</td>\n",
       "      <td>1</td>\n",
       "      <td>2</td>\n",
       "    </tr>\n",
       "    <tr>\n",
       "      <th>614</th>\n",
       "      <td>6</td>\n",
       "      <td>0.665</td>\n",
       "      <td>22.500000</td>\n",
       "      <td>3.570</td>\n",
       "      <td>3.378</td>\n",
       "      <td>15.56</td>\n",
       "      <td>6</td>\n",
       "      <td>0</td>\n",
       "      <td>1</td>\n",
       "      <td>0</td>\n",
       "      <td>8</td>\n",
       "      <td>10</td>\n",
       "      <td>1</td>\n",
       "      <td>1</td>\n",
       "      <td>0</td>\n",
       "      <td>0</td>\n",
       "    </tr>\n",
       "    <tr>\n",
       "      <th>615</th>\n",
       "      <td>6</td>\n",
       "      <td>1.834</td>\n",
       "      <td>22.940001</td>\n",
       "      <td>3.624</td>\n",
       "      <td>3.424</td>\n",
       "      <td>15.89</td>\n",
       "      <td>8</td>\n",
       "      <td>0</td>\n",
       "      <td>0</td>\n",
       "      <td>0</td>\n",
       "      <td>4</td>\n",
       "      <td>4</td>\n",
       "      <td>1</td>\n",
       "      <td>1</td>\n",
       "      <td>0</td>\n",
       "      <td>0</td>\n",
       "    </tr>\n",
       "    <tr>\n",
       "      <th>616</th>\n",
       "      <td>6</td>\n",
       "      <td>0.665</td>\n",
       "      <td>21.920000</td>\n",
       "      <td>3.688</td>\n",
       "      <td>3.598</td>\n",
       "      <td>14.64</td>\n",
       "      <td>12</td>\n",
       "      <td>2</td>\n",
       "      <td>1</td>\n",
       "      <td>0</td>\n",
       "      <td>15</td>\n",
       "      <td>23</td>\n",
       "      <td>0</td>\n",
       "      <td>0</td>\n",
       "      <td>0</td>\n",
       "      <td>2</td>\n",
       "    </tr>\n",
       "    <tr>\n",
       "      <th>617</th>\n",
       "      <td>6</td>\n",
       "      <td>0.802</td>\n",
       "      <td>22.260000</td>\n",
       "      <td>3.530</td>\n",
       "      <td>3.484</td>\n",
       "      <td>15.25</td>\n",
       "      <td>25</td>\n",
       "      <td>0</td>\n",
       "      <td>2</td>\n",
       "      <td>0</td>\n",
       "      <td>10</td>\n",
       "      <td>14</td>\n",
       "      <td>1</td>\n",
       "      <td>1</td>\n",
       "      <td>0</td>\n",
       "      <td>0</td>\n",
       "    </tr>\n",
       "  </tbody>\n",
       "</table>\n",
       "<p>618 rows × 16 columns</p>\n",
       "</div>"
      ],
      "text/plain": [
       "     AGE  SPHEQ         AL    ACD     LT    VCD  SPORTHR  READHR  COMPHR  \\\n",
       "0      6 -0.052  21.889999  3.690  3.498  14.70       45       8       0   \n",
       "1      6  0.608  22.379999  3.702  3.392  15.29        4       0       1   \n",
       "2      6  1.179  22.490000  3.462  3.514  15.52       14       0       2   \n",
       "3      6  0.525  22.200001  3.862  3.612  14.73       18      11       0   \n",
       "4      5  0.697  23.290001  3.676  3.454  16.16       14       0       0   \n",
       "..   ...    ...        ...    ...    ...    ...      ...     ...     ...   \n",
       "613    6  0.678  22.400000  3.663  3.803  14.93        2       0       7   \n",
       "614    6  0.665  22.500000  3.570  3.378  15.56        6       0       1   \n",
       "615    6  1.834  22.940001  3.624  3.424  15.89        8       0       0   \n",
       "616    6  0.665  21.920000  3.688  3.598  14.64       12       2       1   \n",
       "617    6  0.802  22.260000  3.530  3.484  15.25       25       0       2   \n",
       "\n",
       "     STUDYHR  TVHR  DIOPTERHR  MOMMY  DADMY  MYOPIC  class  \n",
       "0          0    10         34      1      1       1      2  \n",
       "1          1     7         12      1      1       0      0  \n",
       "2          0    10         14      0      0       0      0  \n",
       "3          0     4         37      0      1       1      2  \n",
       "4          0     4          4      1      0       0      0  \n",
       "..       ...   ...        ...    ...    ...     ...    ...  \n",
       "613        3    14         37      1      0       1      2  \n",
       "614        0     8         10      1      1       0      0  \n",
       "615        0     4          4      1      1       0      0  \n",
       "616        0    15         23      0      0       0      2  \n",
       "617        0    10         14      1      1       0      0  \n",
       "\n",
       "[618 rows x 16 columns]"
      ]
     },
     "execution_count": 20,
     "metadata": {},
     "output_type": "execute_result"
    }
   ],
   "source": [
    "#Calling the get_clusters() funcitons\n",
    "\n",
    "myopia_clusters = get_clusters(3, myopia_df)\n",
    "myopia_clusters"
   ]
  },
  {
   "cell_type": "markdown",
   "id": "edd11473",
   "metadata": {},
   "source": [
    "### Visualization with K=3"
   ]
  },
  {
   "cell_type": "code",
   "execution_count": 21,
   "id": "ce143fae",
   "metadata": {},
   "outputs": [
    {
     "data": {
      "image/png": "[encoded data removed]",
      "text/plain": [
       "<Figure size 432x288 with 1 Axes>"
      ]
     },
     "metadata": {
      "needs_background": "light"
     },
     "output_type": "display_data"
    }
   ],
   "source": [
    "# Visualize the clusters for the first two values\n",
    "plt.scatter(x=df_myopia_pca[0], y=df_myopia_pca[1], c=labels)\n",
    "plt.xlabel('Principal component 1')\n",
    "plt.ylabel('Principal component 2')\n",
    "plt.title('Myopia clusters')\n",
    "plt.show()"
   ]
  },
  {
   "cell_type": "markdown",
   "id": "7fdf13f7",
   "metadata": {},
   "source": [
    "## Part 4: Make a Recommendation"
   ]
  },
  {
   "cell_type": "markdown",
   "id": "e8c948b6",
   "metadata": {},
   "source": [
    "#### Observations:\n",
    "1. After applying Dimensionality Reduction with PCA, it appears the first 3 features would explain the variance in the dataset\n",
    "2. When the dataset was further reducted with t-SNE, it appeared to 5 distinct clusters in the scatter plot.\n",
    "3. With the K-Means chart, it can  be seen that after the third cluster the change in the value of ineratia is no longer significant, k=3.\n",
    "\n",
    "#### Recommendation:\n",
    "Based on the assessment conducted, the data appears to have distinct groups of patients that would be better to analyze separately which is better seen with the t-SNE and K-Means chart."
   ]
  },
  {
   "cell_type": "code",
   "execution_count": null,
   "id": "364a2c13",
   "metadata": {},
   "outputs": [],
   "source": []
  }
 ],
 "metadata": {
  "kernelspec": {
   "display_name": "PythonData",
   "language": "python",
   "name": "pythondata"
  },
  "language_info": {
   "codemirror_mode": {
    "name": "ipython",
    "version": 3
   },
   "file_extension": ".py",
   "mimetype": "text/x-python",
   "name": "python",
   "nbconvert_exporter": "python",
   "pygments_lexer": "ipython3",
   "version": "3.9.7"
  }
 },
 "nbformat": 4,
 "nbformat_minor": 5
}
